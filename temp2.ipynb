{
 "cells": [
  {
   "cell_type": "code",
   "execution_count": 1,
   "metadata": {},
   "outputs": [],
   "source": [
    "import gzip\n",
    "from lxml import etree"
   ]
  },
  {
   "cell_type": "code",
   "execution_count": 8,
   "metadata": {},
   "outputs": [],
   "source": [
    "path = \"C:\\\\Users\\\\halil\\\\Downloads\\\\pubmed23n1169.xml.gz\"\n",
    "with gzip.open(path, \"rb\") as f:\n",
    "    count = 0\n",
    "    for _, element in etree.iterparse(f, events=(\"end\",)):\n",
    "        if element.tag == \"PubmedArticle\" and element.find(\".//PMID\").text == \"36415208\":\n",
    "            with open(f\"temp_{count}.xml\", \"wb\") as f:\n",
    "                f.write(etree.tostring(element))\n",
    "            count += 1\n",
    "\n"
   ]
  },
  {
   "cell_type": "code",
   "execution_count": 1,
   "metadata": {},
   "outputs": [],
   "source": [
    "import pandas as pd\n",
    "df = pd.read_csv(\"C:\\\\Users\\\\halil\\\\Downloads\\\\oa_comm_xml.incr.2023-09-16.filelist.csv\")"
   ]
  },
  {
   "cell_type": "code",
   "execution_count": 2,
   "metadata": {},
   "outputs": [
    {
     "data": {
      "text/html": [
       "<div>\n",
       "<style scoped>\n",
       "    .dataframe tbody tr th:only-of-type {\n",
       "        vertical-align: middle;\n",
       "    }\n",
       "\n",
       "    .dataframe tbody tr th {\n",
       "        vertical-align: top;\n",
       "    }\n",
       "\n",
       "    .dataframe thead th {\n",
       "        text-align: right;\n",
       "    }\n",
       "</style>\n",
       "<table border=\"1\" class=\"dataframe\">\n",
       "  <thead>\n",
       "    <tr style=\"text-align: right;\">\n",
       "      <th></th>\n",
       "      <th>Article File</th>\n",
       "      <th>Article Citation</th>\n",
       "      <th>AccessionID</th>\n",
       "      <th>LastUpdated (YYYY-MM-DD HH:MM:SS)</th>\n",
       "      <th>PMID</th>\n",
       "      <th>License</th>\n",
       "      <th>Retracted</th>\n",
       "    </tr>\n",
       "  </thead>\n",
       "  <tbody>\n",
       "    <tr>\n",
       "      <th>0</th>\n",
       "      <td>PMC001xxxxxx/PMC1995604.xml</td>\n",
       "      <td>BMC Med Genet. 2007 Sep 19; 8(Suppl 1):S13</td>\n",
       "      <td>PMC1995604</td>\n",
       "      <td>2023-09-15 23:36:21</td>\n",
       "      <td>17903295</td>\n",
       "      <td>CC BY</td>\n",
       "      <td>no</td>\n",
       "    </tr>\n",
       "    <tr>\n",
       "      <th>1</th>\n",
       "      <td>PMC001xxxxxx/PMC1995605.xml</td>\n",
       "      <td>BMC Med Genet. 2007 Sep 19; 8(Suppl 1):S4</td>\n",
       "      <td>PMC1995605</td>\n",
       "      <td>2023-09-15 23:36:21</td>\n",
       "      <td>17903303</td>\n",
       "      <td>CC BY</td>\n",
       "      <td>no</td>\n",
       "    </tr>\n",
       "    <tr>\n",
       "      <th>2</th>\n",
       "      <td>PMC001xxxxxx/PMC1995606.xml</td>\n",
       "      <td>BMC Med Genet. 2007 Sep 19; 8(Suppl 1):S14</td>\n",
       "      <td>PMC1995606</td>\n",
       "      <td>2023-09-15 23:36:22</td>\n",
       "      <td>17903296</td>\n",
       "      <td>CC BY</td>\n",
       "      <td>no</td>\n",
       "    </tr>\n",
       "    <tr>\n",
       "      <th>3</th>\n",
       "      <td>PMC001xxxxxx/PMC1995607.xml</td>\n",
       "      <td>BMC Med Genet. 2007 Sep 19; 8(Suppl 1):S5</td>\n",
       "      <td>PMC1995607</td>\n",
       "      <td>2023-09-15 23:36:18</td>\n",
       "      <td>17903304</td>\n",
       "      <td>CC BY</td>\n",
       "      <td>no</td>\n",
       "    </tr>\n",
       "    <tr>\n",
       "      <th>4</th>\n",
       "      <td>PMC001xxxxxx/PMC1995608.xml</td>\n",
       "      <td>BMC Med Genet. 2007 Sep 19; 8(Suppl 1):S15</td>\n",
       "      <td>PMC1995608</td>\n",
       "      <td>2023-09-15 23:36:22</td>\n",
       "      <td>17903297</td>\n",
       "      <td>CC BY</td>\n",
       "      <td>no</td>\n",
       "    </tr>\n",
       "    <tr>\n",
       "      <th>...</th>\n",
       "      <td>...</td>\n",
       "      <td>...</td>\n",
       "      <td>...</td>\n",
       "      <td>...</td>\n",
       "      <td>...</td>\n",
       "      <td>...</td>\n",
       "      <td>...</td>\n",
       "    </tr>\n",
       "    <tr>\n",
       "      <th>26457</th>\n",
       "      <td>PMC010xxxxxx/PMC10501851.xml</td>\n",
       "      <td>Front Oncol. 2023 Aug 31; 13:1253552</td>\n",
       "      <td>PMC10501851</td>\n",
       "      <td>2023-09-16 00:38:21</td>\n",
       "      <td>0</td>\n",
       "      <td>CC BY</td>\n",
       "      <td>no</td>\n",
       "    </tr>\n",
       "    <tr>\n",
       "      <th>26458</th>\n",
       "      <td>PMC010xxxxxx/PMC10501852.xml</td>\n",
       "      <td>Front Psychol. 2023 Aug 31; 14:1173734</td>\n",
       "      <td>PMC10501852</td>\n",
       "      <td>2023-09-16 00:38:21</td>\n",
       "      <td>0</td>\n",
       "      <td>CC BY</td>\n",
       "      <td>no</td>\n",
       "    </tr>\n",
       "    <tr>\n",
       "      <th>26459</th>\n",
       "      <td>PMC010xxxxxx/PMC10501853.xml</td>\n",
       "      <td>Front Neurol. 2023 Aug 31; 14:1243122</td>\n",
       "      <td>PMC10501853</td>\n",
       "      <td>2023-09-16 00:38:21</td>\n",
       "      <td>0</td>\n",
       "      <td>CC BY</td>\n",
       "      <td>no</td>\n",
       "    </tr>\n",
       "    <tr>\n",
       "      <th>26460</th>\n",
       "      <td>PMC010xxxxxx/PMC10501854.xml</td>\n",
       "      <td>Front Oncol. 2023 Aug 31; 13:1276334</td>\n",
       "      <td>PMC10501854</td>\n",
       "      <td>2023-09-16 00:38:21</td>\n",
       "      <td>0</td>\n",
       "      <td>CC BY</td>\n",
       "      <td>no</td>\n",
       "    </tr>\n",
       "    <tr>\n",
       "      <th>26461</th>\n",
       "      <td>PMC010xxxxxx/PMC10501855.xml</td>\n",
       "      <td>Front Psychol. 2023 Aug 31; 14:1187468</td>\n",
       "      <td>PMC10501855</td>\n",
       "      <td>2023-09-16 00:38:21</td>\n",
       "      <td>0</td>\n",
       "      <td>CC BY</td>\n",
       "      <td>no</td>\n",
       "    </tr>\n",
       "  </tbody>\n",
       "</table>\n",
       "<p>26462 rows × 7 columns</p>\n",
       "</div>"
      ],
      "text/plain": [
       "                       Article File  \\\n",
       "0       PMC001xxxxxx/PMC1995604.xml   \n",
       "1       PMC001xxxxxx/PMC1995605.xml   \n",
       "2       PMC001xxxxxx/PMC1995606.xml   \n",
       "3       PMC001xxxxxx/PMC1995607.xml   \n",
       "4       PMC001xxxxxx/PMC1995608.xml   \n",
       "...                             ...   \n",
       "26457  PMC010xxxxxx/PMC10501851.xml   \n",
       "26458  PMC010xxxxxx/PMC10501852.xml   \n",
       "26459  PMC010xxxxxx/PMC10501853.xml   \n",
       "26460  PMC010xxxxxx/PMC10501854.xml   \n",
       "26461  PMC010xxxxxx/PMC10501855.xml   \n",
       "\n",
       "                                 Article Citation  AccessionID  \\\n",
       "0      BMC Med Genet. 2007 Sep 19; 8(Suppl 1):S13   PMC1995604   \n",
       "1       BMC Med Genet. 2007 Sep 19; 8(Suppl 1):S4   PMC1995605   \n",
       "2      BMC Med Genet. 2007 Sep 19; 8(Suppl 1):S14   PMC1995606   \n",
       "3       BMC Med Genet. 2007 Sep 19; 8(Suppl 1):S5   PMC1995607   \n",
       "4      BMC Med Genet. 2007 Sep 19; 8(Suppl 1):S15   PMC1995608   \n",
       "...                                           ...          ...   \n",
       "26457        Front Oncol. 2023 Aug 31; 13:1253552  PMC10501851   \n",
       "26458      Front Psychol. 2023 Aug 31; 14:1173734  PMC10501852   \n",
       "26459       Front Neurol. 2023 Aug 31; 14:1243122  PMC10501853   \n",
       "26460        Front Oncol. 2023 Aug 31; 13:1276334  PMC10501854   \n",
       "26461      Front Psychol. 2023 Aug 31; 14:1187468  PMC10501855   \n",
       "\n",
       "      LastUpdated (YYYY-MM-DD HH:MM:SS)      PMID License Retracted  \n",
       "0                   2023-09-15 23:36:21  17903295   CC BY        no  \n",
       "1                   2023-09-15 23:36:21  17903303   CC BY        no  \n",
       "2                   2023-09-15 23:36:22  17903296   CC BY        no  \n",
       "3                   2023-09-15 23:36:18  17903304   CC BY        no  \n",
       "4                   2023-09-15 23:36:22  17903297   CC BY        no  \n",
       "...                                 ...       ...     ...       ...  \n",
       "26457               2023-09-16 00:38:21         0   CC BY        no  \n",
       "26458               2023-09-16 00:38:21         0   CC BY        no  \n",
       "26459               2023-09-16 00:38:21         0   CC BY        no  \n",
       "26460               2023-09-16 00:38:21         0   CC BY        no  \n",
       "26461               2023-09-16 00:38:21         0   CC BY        no  \n",
       "\n",
       "[26462 rows x 7 columns]"
      ]
     },
     "execution_count": 2,
     "metadata": {},
     "output_type": "execute_result"
    }
   ],
   "source": [
    "df"
   ]
  },
  {
   "cell_type": "code",
   "execution_count": 3,
   "metadata": {},
   "outputs": [
    {
     "data": {
      "text/plain": [
       "Retracted\n",
       "no     26454\n",
       "yes        8\n",
       "Name: count, dtype: int64"
      ]
     },
     "execution_count": 3,
     "metadata": {},
     "output_type": "execute_result"
    }
   ],
   "source": [
    "df.Retracted.value_counts()"
   ]
  },
  {
   "cell_type": "code",
   "execution_count": 6,
   "metadata": {},
   "outputs": [
    {
     "data": {
      "text/plain": [
       "Retracted\n",
       "no     122415\n",
       "yes       147\n",
       "Name: count, dtype: int64"
      ]
     },
     "execution_count": 6,
     "metadata": {},
     "output_type": "execute_result"
    }
   ],
   "source": [
    "df_2 = pd.read_csv(\"C:\\\\Users\\\\halil\\\\Downloads\\\\oa_comm_xml.PMC002xxxxxx.baseline.2023-09-06.filelist.csv\")\n",
    "df_2.Retracted.value_counts()"
   ]
  },
  {
   "cell_type": "markdown",
   "metadata": {},
   "source": [
    "# check the  journal title names"
   ]
  },
  {
   "cell_type": "code",
   "execution_count": 19,
   "metadata": {},
   "outputs": [],
   "source": [
    "import tqdm\n",
    "import os, json\n",
    "import pandas as pd"
   ]
  },
  {
   "cell_type": "code",
   "execution_count": 20,
   "metadata": {},
   "outputs": [
    {
     "data": {
      "text/plain": [
       "7980"
      ]
     },
     "execution_count": 20,
     "metadata": {},
     "output_type": "execute_result"
    }
   ],
   "source": [
    "json_path= \"data/pubmed/\"\n",
    "json_files = [pos_json for pos_json in os.listdir(json_path) if pos_json.endswith('.json')]\n",
    "len(json_files)"
   ]
  },
  {
   "cell_type": "code",
   "execution_count": 21,
   "metadata": {},
   "outputs": [],
   "source": [
    "df_ranking_list = pd.read_csv(\"data/journal_ranking.csv\")"
   ]
  },
  {
   "cell_type": "code",
   "execution_count": 22,
   "metadata": {},
   "outputs": [
    {
     "name": "stderr",
     "output_type": "stream",
     "text": [
      "100%|██████████| 7980/7980 [00:03<00:00, 2224.44it/s]\n"
     ]
    },
    {
     "data": {
      "text/plain": [
       "['Physica A',\n",
       " 'European journal of operational research',\n",
       " 'Physica A',\n",
       " 'Physica A',\n",
       " 'Agricultural systems',\n",
       " 'Applied mathematical modelling',\n",
       " 'Agricultural systems',\n",
       " 'Applied mathematical modelling',\n",
       " 'Physica A',\n",
       " 'European journal of operational research',\n",
       " 'Applied mathematical modelling',\n",
       " 'Physica A',\n",
       " 'European journal of operational research',\n",
       " 'Physica A',\n",
       " 'Physica A',\n",
       " 'Physica A',\n",
       " 'Physica A',\n",
       " 'European journal of operational research',\n",
       " 'European journal of operational research',\n",
       " 'Physica A',\n",
       " 'Energy policy',\n",
       " 'Physica A',\n",
       " 'European journal of operational research',\n",
       " 'European journal of operational research',\n",
       " 'European journal of operational research',\n",
       " 'Neurogastroenterology and motility : the official journal of the European Gastrointestinal Motility Society',\n",
       " 'European journal of operational research',\n",
       " 'European journal of operational research',\n",
       " 'European journal of operational research',\n",
       " 'European journal of operational research',\n",
       " 'European journal of operational research',\n",
       " 'European journal of operational research',\n",
       " 'European journal of operational research',\n",
       " 'European journal of operational research',\n",
       " 'European journal of operational research',\n",
       " 'European journal of operational research',\n",
       " 'European journal of operational research',\n",
       " 'European journal of operational research',\n",
       " 'Agricultural systems',\n",
       " 'Neurogastroenterology and motility : the official journal of the European Gastrointestinal Motility Society',\n",
       " 'European journal of operational research',\n",
       " 'Physica A',\n",
       " 'Neurogastroenterology and motility : the official journal of the European Gastrointestinal Motility Society',\n",
       " 'Neurogastroenterology and motility : the official journal of the European Gastrointestinal Motility Society',\n",
       " 'Physica A',\n",
       " 'Agricultural systems',\n",
       " 'Neurogastroenterology and motility : the official journal of the European Gastrointestinal Motility Society',\n",
       " 'Physica A',\n",
       " 'Agricultural systems',\n",
       " 'Neurogastroenterology and motility : the official journal of the European Gastrointestinal Motility Society',\n",
       " 'Neurogastroenterology and motility : the official journal of the European Gastrointestinal Motility Society',\n",
       " 'Applied mathematical modelling',\n",
       " 'Neurogastroenterology and motility : the official journal of the European Gastrointestinal Motility Society',\n",
       " 'European journal of operational research',\n",
       " 'Neurogastroenterology and motility : the official journal of the European Gastrointestinal Motility Society',\n",
       " 'Neurogastroenterology and motility : the official journal of the European Gastrointestinal Motility Society',\n",
       " 'Neurogastroenterology and motility : the official journal of the European Gastrointestinal Motility Society',\n",
       " 'Neurogastroenterology and motility : the official journal of the European Gastrointestinal Motility Society',\n",
       " 'Neurogastroenterology and motility : the official journal of the European Gastrointestinal Motility Society',\n",
       " 'Neurogastroenterology and motility : the official journal of the European Gastrointestinal Motility Society',\n",
       " 'Neurogastroenterology and motility : the official journal of the European Gastrointestinal Motility Society',\n",
       " 'Physica A',\n",
       " 'Physica A',\n",
       " 'Neurogastroenterology and motility : the official journal of the European Gastrointestinal Motility Society',\n",
       " 'Physica A',\n",
       " 'Physica A',\n",
       " 'Applied mathematical modelling',\n",
       " 'Energy policy',\n",
       " 'European journal of operational research',\n",
       " 'Applied mathematical modelling',\n",
       " 'Agricultural systems',\n",
       " 'Neurogastroenterology and motility : the official journal of the European Gastrointestinal Motility Society',\n",
       " 'Neurogastroenterology and motility : the official journal of the European Gastrointestinal Motility Society']"
      ]
     },
     "execution_count": 22,
     "metadata": {},
     "output_type": "execute_result"
    }
   ],
   "source": [
    "failed_list = []\n",
    "for file in tqdm.tqdm(json_files):\n",
    "    with open(json_path+file, \"r\") as f:\n",
    "        data = json.load(f)\n",
    "    j_name = data[\"meta_info\"][\"fulljournalname\"]\n",
    "    if not j_name in df_ranking_list[\"JournalTitle\"].values:\n",
    "        failed_list.append(j_name)\n",
    "\n",
    "failed_list"
   ]
  },
  {
   "cell_type": "code",
   "execution_count": 23,
   "metadata": {},
   "outputs": [],
   "source": [
    "failed = set(failed_list)"
   ]
  },
  {
   "cell_type": "code",
   "execution_count": 26,
   "metadata": {},
   "outputs": [
    {
     "data": {
      "text/plain": [
       "(6, 73)"
      ]
     },
     "execution_count": 26,
     "metadata": {},
     "output_type": "execute_result"
    }
   ],
   "source": [
    "len(failed),len(failed_list)"
   ]
  },
  {
   "cell_type": "code",
   "execution_count": 27,
   "metadata": {},
   "outputs": [
    {
     "data": {
      "text/plain": [
       "{'Agricultural systems',\n",
       " 'Applied mathematical modelling',\n",
       " 'Energy policy',\n",
       " 'European journal of operational research',\n",
       " 'Neurogastroenterology and motility : the official journal of the European Gastrointestinal Motility Society',\n",
       " 'Physica A'}"
      ]
     },
     "execution_count": 27,
     "metadata": {},
     "output_type": "execute_result"
    }
   ],
   "source": [
    "failed"
   ]
  },
  {
   "cell_type": "code",
   "execution_count": 1,
   "metadata": {},
   "outputs": [
    {
     "name": "stdout",
     "output_type": "stream",
     "text": [
      "cherry\n",
      "None\n"
     ]
    }
   ],
   "source": [
    "import difflib\n",
    "\n",
    "def find_closest_match(query, string_list):\n",
    "    matches = difflib.get_close_matches(query, string_list)\n",
    "    if matches:\n",
    "        return matches[0]\n",
    "    else:\n",
    "        return None\n",
    "\n",
    "# Example usage\n",
    "string_list = ['apple', 'banana', 'cherry', 'grape', 'kiwi']\n",
    "\n",
    "# Searching for 'cheri' will return 'cherry' (closest match)\n",
    "result = find_closest_match('cheri', string_list)\n",
    "print(result)  # Output: 'cherry'\n",
    "\n",
    "# Searching for 'peach' will return None (no close match)\n",
    "result = find_closest_match('peach', string_list)\n",
    "print(result)  # Output: None\n"
   ]
  },
  {
   "cell_type": "code",
   "execution_count": null,
   "metadata": {},
   "outputs": [],
   "source": []
  }
 ],
 "metadata": {
  "kernelspec": {
   "display_name": "Python 3",
   "language": "python",
   "name": "python3"
  },
  "language_info": {
   "codemirror_mode": {
    "name": "ipython",
    "version": 3
   },
   "file_extension": ".py",
   "mimetype": "text/x-python",
   "name": "python",
   "nbconvert_exporter": "python",
   "pygments_lexer": "ipython3",
   "version": "3.11.4"
  },
  "orig_nbformat": 4
 },
 "nbformat": 4,
 "nbformat_minor": 2
}
