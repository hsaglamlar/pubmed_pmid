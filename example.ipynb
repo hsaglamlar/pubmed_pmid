{
 "cells": [
  {
   "cell_type": "code",
   "execution_count": 1,
   "metadata": {},
   "outputs": [],
   "source": [
    "import json\n",
    "from pubmed_pmid import PubmedPMID"
   ]
  },
  {
   "cell_type": "code",
   "execution_count": 2,
   "metadata": {},
   "outputs": [],
   "source": [
    "pubmed = PubmedPMID()"
   ]
  },
  {
   "cell_type": "markdown",
   "metadata": {},
   "source": [
    "# Process a large xml gz file that contains more than around 5000 articles"
   ]
  },
  {
   "cell_type": "code",
   "execution_count": 6,
   "metadata": {},
   "outputs": [],
   "source": [
    "dicts_out = pubmed.parse_pubmed_xml_iter(\"data/pubmed23n1166.xml.gz\")\n",
    "\n",
    "for article in dicts_out:\n",
    "    if article is None:\n",
    "        continue\n",
    "    pmid = article[\"pmid\"]\n",
    "    with open(f\"./data/pubmed/pubmed_{pmid}.json\", \"w\") as f:\n",
    "        json.dump(article, f)"
   ]
  },
  {
   "cell_type": "markdown",
   "metadata": {},
   "source": [
    "# Fetch the xml file from pubmed API"
   ]
  },
  {
   "cell_type": "code",
   "execution_count": 7,
   "metadata": {},
   "outputs": [
    {
     "name": "stdout",
     "output_type": "stream",
     "text": [
      "<?xml version=\"1.0\" ?>\n",
      "<!DOCTYPE PubmedArticleSet PUBLIC \"-//NLM//DTD PubMedArticle, 1st January 2023//EN\" \"https://dtd.nlm.nih.gov/ncbi/pubmed/out/pubmed_230101.dtd\">\n",
      "<PubmedArticleSet>\n",
      "<PubmedArticle><MedlineCitation Status=\"PubMed-not-MEDLINE\" Owner=\"NLM\"><PMID Version=\"1\">36464825</PMID><DateRevised><Year>2022</Year><Month>12</Month><Day>14</Day></DateRevised><Article PubModel=\"Print-Electronic\"><Journal><ISSN IssnType=\"Print\">2234-2400</ISSN><JournalIssue CitedMedium=\"Print\"><Volume>55</Volume><Issue>6</Issue><PubDate><Year>2022</Year><Month>Nov</Month></PubDate></JournalIssue><Title>Clinical endoscopy</Title><ISOAbbreviation>Clin Endosc</ISOAbbreviation></Journal><ArticleTitle>Underestimation of endoscopic size in large gastric epithelial neoplasms.</ArticleTitle><Pagination><StartPage>760</StartPage><EndPage>766</EndPage><MedlinePgn>760-766</MedlinePgn></Pagination><ELocationID EIdType=\"doi\" ValidYN=\"Y\">10.5946/ce.2021.269</ELocationID><Abstract><AbstractText Label=\"BACKGROUND/AIMS\" NlmCategory=\"OBJECTIVE\">Endoscopic submucosal dissection (ESD) is an effective method for resecting gastric adenomas and adenocarcinomas. A significant discrepancy was observed between endoscopic and pathological sizes in samples obtained from patients undergoing ESD. This study elucidates the factors affecting size discrepancy after formalin fixation.</AbstractText><AbstractText Label=\"METHODS\" NlmCategory=\"METHODS\">The records of 64 patients with 69 lesions were analyzed, including 50 adenomas and 19 adenocarcinomas. Data on location, gross shape, histology, and size after fixation in formalin were collected.</AbstractText><AbstractText Label=\"RESULTS\" NlmCategory=\"RESULTS\">The mean size of the resected specimen appeared to decrease after formalin fixation (37.5 mm prefixation vs. 35.8 mm postfixation, p&lt;0.05). The mean long axis diameter of the lesions was 20.3&#xb1;7.9 mm prefixation and 13.4&#xb1;7.9 mm postfixation. Size differences in lesions smaller than 20 mm were significantly greater than those in lesions larger than 20 mm (7.6&#xb1;5.6 mm vs. 2.5&#xb1;5.8 mm, p&lt;0.01). In multivariate analysis, a tumor size of &#x2265;20 mm was found to be an independent factor affecting size postformalin fixation (p&lt;0.05).</AbstractText><AbstractText Label=\"CONCLUSION\" NlmCategory=\"CONCLUSIONS\">The endoscopic size of lesions before ESD may be underestimated in tumors larger than 20 mm in size. Therefore, increased attention must be paid during ESD to avoid instances of incomplete resection.</AbstractText></Abstract><AuthorList CompleteYN=\"Y\"><Author ValidYN=\"Y\"><LastName>Song</LastName><ForeName>Jae Sun</ForeName><Initials>JS</Initials><AffiliationInfo><Affiliation>Division of Gastroenterology, Department of Internal Medicine, Presbyterian Medical Center, Jeonju, Korea.</Affiliation></AffiliationInfo></Author><Author ValidYN=\"Y\"><LastName>Kim</LastName><ForeName>Byung Sun</ForeName><Initials>BS</Initials><AffiliationInfo><Affiliation>Division of Gastroenterology, Department of Internal Medicine, Presbyterian Medical Center, Jeonju, Korea.</Affiliation></AffiliationInfo></Author><Author ValidYN=\"Y\"><LastName>Yang</LastName><ForeName>Min A</ForeName><Initials>MA</Initials><AffiliationInfo><Affiliation>Division of Gastroenterology, Department of Internal Medicine, Presbyterian Medical Center, Jeonju, Korea.</Affiliation></AffiliationInfo></Author><Author ValidYN=\"Y\"><LastName>Lee</LastName><ForeName>Young Jae</ForeName><Initials>YJ</Initials><AffiliationInfo><Affiliation>Division of Gastroenterology, Department of Internal Medicine, Presbyterian Medical Center, Jeonju, Korea.</Affiliation></AffiliationInfo></Author><Author ValidYN=\"Y\"><LastName>Jung</LastName><ForeName>Gum Mo</ForeName><Initials>GM</Initials><AffiliationInfo><Affiliation>Division of Gastroenterology, Department of Internal Medicine, Presbyterian Medical Center, Jeonju, Korea.</Affiliation></AffiliationInfo></Author><Author ValidYN=\"Y\"><LastName>Kim</LastName><ForeName>Ji Woong</ForeName><Initials>JW</Initials><AffiliationInfo><Affiliation>Division of Gastroenterology, Department of Internal Medicine, Presbyterian Medical Center, Jeonju, Korea.</Affiliation></AffiliationInfo></Author><Author ValidYN=\"Y\"><LastName>Cho</LastName><ForeName>Jin Woong</ForeName><Initials>JW</Initials><AffiliationInfo><Affiliation>Division of Gastroenterology, Department of Internal Medicine, Presbyterian Medical Center, Jeonju, Korea.</Affiliation></AffiliationInfo></Author></AuthorList><Language>eng</Language><PublicationTypeList><PublicationType UI=\"D016428\">Journal Article</PublicationType></PublicationTypeList><ArticleDate DateType=\"Electronic\"><Year>2022</Year><Month>05</Month><Day>19</Day></ArticleDate></Article><MedlineJournalInfo><Country>Korea (South)</Country><MedlineTA>Clin Endosc</MedlineTA><NlmUniqueID>101576886</NlmUniqueID><ISSNLinking>2234-2400</ISSNLinking></MedlineJournalInfo><CommentsCorrectionsList><CommentsCorrections RefType=\"CommentIn\"><RefSource>Clin Endosc. 2022 Nov;55(6):753-754</RefSource><PMID Version=\"1\">36464822</PMID></CommentsCorrections></CommentsCorrectionsList><KeywordList Owner=\"NOTNLM\"><Keyword MajorTopicYN=\"N\">Endoscopic submucosal dissection</Keyword><Keyword MajorTopicYN=\"N\">Endoscopy</Keyword><Keyword MajorTopicYN=\"N\">Stomach neoplasms</Keyword></KeywordList><CoiStatement>\n",
      "<b>Conflicts of Interest</b>\n",
      ". The authors have no potential conflicts of interest.</CoiStatement></MedlineCitation><PubmedData><History><PubMedPubDate PubStatus=\"received\"><Year>2021</Year><Month>11</Month><Day>3</Day></PubMedPubDate><PubMedPubDate PubStatus=\"accepted\"><Year>2022</Year><Month>2</Month><Day>9</Day></PubMedPubDate><PubMedPubDate PubStatus=\"entrez\"><Year>2022</Year><Month>12</Month><Day>5</Day><Hour>0</Hour><Minute>42</Minute></PubMedPubDate><PubMedPubDate PubStatus=\"pubmed\"><Year>2022</Year><Month>12</Month><Day>6</Day><Hour>6</Hour><Minute>0</Minute></PubMedPubDate><PubMedPubDate PubStatus=\"medline\"><Year>2022</Year><Month>12</Month><Day>6</Day><Hour>6</Hour><Minute>1</Minute></PubMedPubDate></History><PublicationStatus>ppublish</PublicationStatus><ArticleIdList><ArticleId IdType=\"pubmed\">36464825</ArticleId><ArticleId IdType=\"pmc\">PMC9726444</ArticleId><ArticleId IdType=\"doi\">10.5946/ce.2021.269</ArticleId><ArticleId IdType=\"pii\">ce.2021.269</ArticleId></ArticleIdList><ReferenceList><Reference><Citation>Chung IK, Lee JH, Lee SH, et al. Therapeutic outcomes in 1000 cases of endoscopic submucosal dissection for early gastric neoplasms: Korean ESD Study Group multicenter study. Gastrointest Endosc. 2009;69:1228&#x2013;1235.</Citation><ArticleIdList><ArticleId IdType=\"pubmed\">19249769</ArticleId></ArticleIdList></Reference><Reference><Citation>Min BH, Kim ER, Kim KM, et al. Surveillance strategy based on the incidence and patterns of recurrence after curative endoscopic submucosal dissection for early gastric cancer. Endoscopy. 2015;47:784&#x2013;793.</Citation><ArticleIdList><ArticleId IdType=\"pubmed\">26111362</ArticleId></ArticleIdList></Reference><Reference><Citation>Siu KF, Cheung HC, Wong J. Shrinkage of the esophagus after resection for carcinoma. Ann Surg. 1986;203:173&#x2013;176.</Citation><ArticleIdList><ArticleId IdType=\"pmc\">PMC1251066</ArticleId><ArticleId IdType=\"pubmed\">3947154</ArticleId></ArticleIdList></Reference><Reference><Citation>Goldstein NS, Soman A, Sacksner J. Disparate surgical margin lengths of colorectal resection specimens between in vivo and in vitro measurements: the effects of surgical resection and formalin fixation on organ shrinkage. Am J Clin Pathol. 1999;111:349&#x2013;351.</Citation><ArticleIdList><ArticleId IdType=\"pubmed\">10078110</ArticleId></ArticleIdList></Reference><Reference><Citation>Kim EH, Park JC, Song IJ, et al. Prediction model for non-curative resection of endoscopic submucosal dissection in patients with early gastric cancer. Gastrointest Endosc. 2017;85:976&#x2013;983.</Citation><ArticleIdList><ArticleId IdType=\"pubmed\">27756614</ArticleId></ArticleIdList></Reference><Reference><Citation>Gotoda T, Yanagisawa A, Sasako M, et al. Incidence of lymph node metastasis from early gastric cancer: estimation with a large number of cases at two large centers. Gastric Cancer. 2000;3:219&#x2013;225.</Citation><ArticleIdList><ArticleId IdType=\"pubmed\">11984739</ArticleId></ArticleIdList></Reference><Reference><Citation>Cho JW. The role of endosonography in the staging of gastrointestinal cancers. Clin Endosc. 2015;48:297&#x2013;301.</Citation><ArticleIdList><ArticleId IdType=\"pmc\">PMC4522420</ArticleId><ArticleId IdType=\"pubmed\">26240802</ArticleId></ArticleIdList></Reference><Reference><Citation>Shim CN, Song MK, Kang DR, et al. Size discrepancy between endoscopic size and pathologic size is not negligible in endoscopic resection for early gastric cancer. Surg Endosc. 2014;28:2199&#x2013;2207.</Citation><ArticleIdList><ArticleId IdType=\"pubmed\">24519032</ArticleId></ArticleIdList></Reference><Reference><Citation>Asada-Hirayama I, Kodashima S, Goto O, et al. Factors predictive of inaccurate determination of horizontal extent of intestinal-type early gastric cancers during endoscopic submucosal dissection: a retrospective analysis. Dig Endosc. 2013;25:593&#x2013;600.</Citation><ArticleIdList><ArticleId IdType=\"pubmed\">23489945</ArticleId></ArticleIdList></Reference><Reference><Citation>Sohn YJ, Jang JS, Choi SR, et al. Early detection of recurrence after endoscopic treatment for early gastric cancer. Scand J Gastroenterol. 2009;44:1109&#x2013;1114.</Citation><ArticleIdList><ArticleId IdType=\"pubmed\">19593687</ArticleId></ArticleIdList></Reference><Reference><Citation>Yamamoto Y, Fujisaki J, Hirasawa T, et al. Therapeutic outcomes of endoscopic submucosal dissection of undifferentiated-type intramucosal gastric cancer without ulceration and preoperatively diagnosed as 20 millimetres or less in diameter. Dig Endosc. 2010;22:112&#x2013;118.</Citation><ArticleIdList><ArticleId IdType=\"pubmed\">20447204</ArticleId></ArticleIdList></Reference><Reference><Citation>Schoen RE, Gerber LD, Margulies C. The pathologic measurement of polyp size is preferable to the endoscopic estimate. Gastrointest Endosc. 1997;46:492&#x2013;496.</Citation><ArticleIdList><ArticleId IdType=\"pubmed\">9434214</ArticleId></ArticleIdList></Reference><Reference><Citation>Fennerty MB, Davidson J, Emerson SS, et al. Are endoscopic measurements of colonic polyps reliable? Am J Gastroenterol. 1993;88:496&#x2013;500.</Citation><ArticleIdList><ArticleId IdType=\"pubmed\">8470627</ArticleId></ArticleIdList></Reference><Reference><Citation>Gopalswamy N, Shenoy VN, Choudhry U, et al. Is in vivo measurement of size of polyps during colonoscopy accurate? Gastrointest Endosc. 1997;46:497&#x2013;502.</Citation><ArticleIdList><ArticleId IdType=\"pubmed\">9434215</ArticleId></ArticleIdList></Reference><Reference><Citation>Yun GW, Kim JH, Lee YC, et al. What are the risk factors for residual tumor cells after endoscopic complete resection in gastric epithelial neoplasia? Surg Endosc. 2015;29:487&#x2013;492.</Citation><ArticleIdList><ArticleId IdType=\"pubmed\">25015521</ArticleId></ArticleIdList></Reference><Reference><Citation>Kim SB, Lee SH, Bae SI, et al. Association between Helicobacter pylori status and metachronous gastric cancer after endoscopic resection. World J Gastroenterol. 2016;22:9794&#x2013;9802.</Citation><ArticleIdList><ArticleId IdType=\"pmc\">PMC5124984</ArticleId><ArticleId IdType=\"pubmed\">27956803</ArticleId></ArticleIdList></Reference></ReferenceList></PubmedData></PubmedArticle></PubmedArticleSet>\n"
     ]
    }
   ],
   "source": [
    "pubmed_xml = pubmed.get_pubmed_article_xml(\"36464825\")\n",
    "print(pubmed_xml)"
   ]
  },
  {
   "cell_type": "markdown",
   "metadata": {},
   "source": [
    "# Process a single xml file"
   ]
  },
  {
   "cell_type": "code",
   "execution_count": 9,
   "metadata": {},
   "outputs": [],
   "source": [
    "# get citation count and journal ranking from APIs\n",
    "pubmed = PubmedPMID(get_citation_count=True, get_journal_ranking=True)"
   ]
  },
  {
   "cell_type": "code",
   "execution_count": 5,
   "metadata": {},
   "outputs": [
    {
     "data": {
      "text/plain": [
       "{'abstract': [{'text': '\\n\\nBackground:\\nAmyotrophic lateral sclerosis (ALS) is a progressive neurodegenerative disease caused by the loss of motor neurons, and development of effective medicines is urgently required. Induced pluripotent stem cell (iPSC)-based drug repurposing identified the Src/c-Abl inhibitor bosutinib, which is approved for the treatment of chronic myelogenous leukemia (CML), as a candidate for the molecular targeted therapy of ALS.\\n\\n\\nMethods:\\nAn open-label, multicentre, dose-escalation phase 1 study using a 3\\xa0+\\xa03 design was conducted in 4 hospitals in Japan to evaluate the safety and tolerability of bosutinib in patients with ALS. Furthermore, the exploratory efficacy was evaluated using Revised ALS Functional Rating Scale (ALSFRS-R), predictive biomarkers including plasma neurofilament light chain (NFL) were explored, and single-cell RNA sequencing of iPSC-derived motor neurons was conducted. Patients, whose total ALSFRS-R scores decreased by 1-3 points during the 12-week, received escalating doses starting from 100\\xa0mg quaque die (QD) up to 400\\xa0mg QD based on dose-limiting toxicity (DLT) occurrence, and all participants who received one dose of the study drug were included in the primary analysis. This trial is registered with ClinicalTrials.gov, NCT04744532, as Induced pluripotent stem cell-based Drug Repurposing for Amyotrophic Lateral Sclerosis Medicine (iDReAM) study.\\n\\n\\nFindings:\\nBetween March 29, 2019 and May 7, 2021, 20 patients were enrolled, 13 of whom received bosutinib treatment and 12 were included in the safety and efficacy analyses. No DLTs were observed up to 300\\xa0mg QD, but DLTs were observed in 3/3 patients of the 400\\xa0mg QD cohort. In all patients receiving 100\\xa0mg-400\\xa0mg, the prevalent adverse events (AEs) were gastrointestinal AEs in 12 patients (92.3%),',\n",
       "   'section_title': 'Abstract',\n",
       "   'section_type': 'ABSTRACT'}],\n",
       " 'meta_info': {'articleids': [{'idtype': 'pubmed', 'value': '36467452'},\n",
       "   {'idtype': 'doi', 'value': '10.1016/j.eclinm.2022.101707'},\n",
       "   {'idtype': 'pii', 'value': 'S2589-5370(22)00437-0'},\n",
       "   {'idtype': 'pmc', 'value': 'PMC9716331'}],\n",
       "  'kwd': '',\n",
       "  'dates_history': [{'date_type': 'received',\n",
       "    'year': '2022',\n",
       "    'month': '08',\n",
       "    'day': '05'},\n",
       "   {'date_type': 'revised', 'year': '2022', 'month': '09', 'day': '29'},\n",
       "   {'date_type': 'accepted', 'year': '2022', 'month': '09', 'day': '30'},\n",
       "   {'date_type': 'entrez', 'year': '2022', 'month': '12', 'day': '5'},\n",
       "   {'date_type': 'pubmed', 'year': '2022', 'month': '12', 'day': '6'},\n",
       "   {'date_type': 'medline', 'year': '2022', 'month': '12', 'day': '6'}],\n",
       "  'fulljournalname': 'EClinicalMedicine',\n",
       "  'journal_abbrev': 'EClinicalMedicine',\n",
       "  'issn': '2589-5370',\n",
       "  'pubdate': '2022 Nov',\n",
       "  'title': 'Safety and tolerability of bosutinib in patients with amyotrophic lateral sclerosis (iDReAM study): A multicentre, open-label, dose-escalation phase 1 trial.',\n",
       "  'languages': 'eng',\n",
       "  'volume': '53',\n",
       "  'issue': '',\n",
       "  'pages': '101707',\n",
       "  'authors': [{'first': 'Keiko',\n",
       "    'middle': '',\n",
       "    'last': 'Imamura',\n",
       "    'suffix': '',\n",
       "    'initials': 'K',\n",
       "    'affiliation': 'Center for iPS Cell Research and Application (CiRA), Kyoto University, Kyoto, Japan.',\n",
       "    'email': ''},\n",
       "   {'first': 'Yuishin',\n",
       "    'middle': '',\n",
       "    'last': 'Izumi',\n",
       "    'suffix': '',\n",
       "    'initials': 'Y',\n",
       "    'affiliation': 'Department of Neurology, Tokushima University Graduate School of Biomedical Sciences, Tokushima, Japan.',\n",
       "    'email': ''},\n",
       "   {'first': 'Makiko',\n",
       "    'middle': '',\n",
       "    'last': 'Nagai',\n",
       "    'suffix': '',\n",
       "    'initials': 'M',\n",
       "    'affiliation': 'Department of Neurology, Kitasato University School of Medicine, Sagamihara, Japan.',\n",
       "    'email': ''},\n",
       "   {'first': 'Kazutoshi',\n",
       "    'middle': '',\n",
       "    'last': 'Nishiyama',\n",
       "    'suffix': '',\n",
       "    'initials': 'K',\n",
       "    'affiliation': 'Department of Neurology, Kitasato University School of Medicine, Sagamihara, Japan.',\n",
       "    'email': ''},\n",
       "   {'first': 'Yasuhiro',\n",
       "    'middle': '',\n",
       "    'last': 'Watanabe',\n",
       "    'suffix': '',\n",
       "    'initials': 'Y',\n",
       "    'affiliation': 'Division of Neurology, Department of Brain and Neurosciences, Faculty of Medicine, Tottori University, Yonago, Japan.',\n",
       "    'email': ''},\n",
       "   {'first': 'Ritsuko',\n",
       "    'middle': '',\n",
       "    'last': 'Hanajima',\n",
       "    'suffix': '',\n",
       "    'initials': 'R',\n",
       "    'affiliation': 'Division of Neurology, Department of Brain and Neurosciences, Faculty of Medicine, Tottori University, Yonago, Japan.',\n",
       "    'email': ''},\n",
       "   {'first': 'Naohiro',\n",
       "    'middle': '',\n",
       "    'last': 'Egawa',\n",
       "    'suffix': '',\n",
       "    'initials': 'N',\n",
       "    'affiliation': 'Department of Neurology, Graduate School of Medicine, Kyoto University, Kyoto, Japan.',\n",
       "    'email': ''},\n",
       "   {'first': 'Takashi',\n",
       "    'middle': '',\n",
       "    'last': 'Ayaki',\n",
       "    'suffix': '',\n",
       "    'initials': 'T',\n",
       "    'affiliation': 'Department of Neurology, Graduate School of Medicine, Kyoto University, Kyoto, Japan.',\n",
       "    'email': ''},\n",
       "   {'first': 'Ryosuke',\n",
       "    'middle': '',\n",
       "    'last': 'Oki',\n",
       "    'suffix': '',\n",
       "    'initials': 'R',\n",
       "    'affiliation': 'Department of Neurology, Tokushima University Graduate School of Biomedical Sciences, Tokushima, Japan.',\n",
       "    'email': ''},\n",
       "   {'first': 'Koji',\n",
       "    'middle': '',\n",
       "    'last': 'Fujita',\n",
       "    'suffix': '',\n",
       "    'initials': 'K',\n",
       "    'affiliation': 'Department of Neurology, Tokushima University Graduate School of Biomedical Sciences, Tokushima, Japan.',\n",
       "    'email': ''},\n",
       "   {'first': 'Ryuji',\n",
       "    'middle': '',\n",
       "    'last': 'Uozumi',\n",
       "    'suffix': '',\n",
       "    'initials': 'R',\n",
       "    'affiliation': 'Department of Biomedical Statistics and Bioinformatics, Kyoto University, Kyoto, Japan.',\n",
       "    'email': ''},\n",
       "   {'first': 'Akiko',\n",
       "    'middle': '',\n",
       "    'last': 'Morinaga',\n",
       "    'suffix': '',\n",
       "    'initials': 'A',\n",
       "    'affiliation': 'Pfizer R&D Japan G.K., Tokyo, Japan.',\n",
       "    'email': ''},\n",
       "   {'first': 'Tomoko',\n",
       "    'middle': '',\n",
       "    'last': 'Hirohashi',\n",
       "    'suffix': '',\n",
       "    'initials': 'T',\n",
       "    'affiliation': 'Pfizer Inc., New York, New York, USA.',\n",
       "    'email': ''},\n",
       "   {'first': 'Yosuke',\n",
       "    'middle': '',\n",
       "    'last': 'Fujii',\n",
       "    'suffix': '',\n",
       "    'initials': 'Y',\n",
       "    'affiliation': 'Pfizer R&D Japan G.K., Tokyo, Japan.',\n",
       "    'email': ''},\n",
       "   {'first': 'Takuya',\n",
       "    'middle': '',\n",
       "    'last': 'Yamamoto',\n",
       "    'suffix': '',\n",
       "    'initials': 'T',\n",
       "    'affiliation': 'Center for iPS Cell Research and Application (CiRA), Kyoto University, Kyoto, Japan.',\n",
       "    'email': ''},\n",
       "   {'first': 'Harutsugu',\n",
       "    'middle': '',\n",
       "    'last': 'Tatebe',\n",
       "    'suffix': '',\n",
       "    'initials': 'H',\n",
       "    'affiliation': 'Department of Functional Brain Imaging, Institute for Quantum Medical Science, National Institutes for Quantum Science and Technology, Chiba, Japan.',\n",
       "    'email': ''},\n",
       "   {'first': 'Takahiko',\n",
       "    'middle': '',\n",
       "    'last': 'Tokuda',\n",
       "    'suffix': '',\n",
       "    'initials': 'T',\n",
       "    'affiliation': 'Department of Functional Brain Imaging, Institute for Quantum Medical Science, National Institutes for Quantum Science and Technology, Chiba, Japan.',\n",
       "    'email': ''},\n",
       "   {'first': 'Naoto',\n",
       "    'middle': '',\n",
       "    'last': 'Takahashi',\n",
       "    'suffix': '',\n",
       "    'initials': 'N',\n",
       "    'affiliation': 'Department of Hematology, Nephrology, and Rheumatology, Akita University Graduate School of Medicine, Akita, Japan.',\n",
       "    'email': ''},\n",
       "   {'first': 'Satoshi',\n",
       "    'middle': '',\n",
       "    'last': 'Morita',\n",
       "    'suffix': '',\n",
       "    'initials': 'S',\n",
       "    'affiliation': 'Department of Biomedical Statistics and Bioinformatics, Kyoto University, Kyoto, Japan.',\n",
       "    'email': ''},\n",
       "   {'first': 'Ryosuke',\n",
       "    'middle': '',\n",
       "    'last': 'Takahashi',\n",
       "    'suffix': '',\n",
       "    'initials': 'R',\n",
       "    'affiliation': 'Department of Neurology, Graduate School of Medicine, Kyoto University, Kyoto, Japan.',\n",
       "    'email': ''},\n",
       "   {'first': 'Haruhisa',\n",
       "    'middle': '',\n",
       "    'last': 'Inoue',\n",
       "    'suffix': '',\n",
       "    'initials': 'H',\n",
       "    'affiliation': 'Center for iPS Cell Research and Application (CiRA), Kyoto University, Kyoto, Japan.',\n",
       "    'email': ''}],\n",
       "  'mesh_terms': ''},\n",
       " 'pmid': '36467452',\n",
       " 'article_splits': [{'PMID36467452_abstract_split_0': 'Background:\\nAmyotrophic lateral sclerosis (ALS) is a progressive neurodegenerative disease caused by the loss of motor neurons, and development of effective medicines is urgently required. Induced pluripotent stem cell (iPSC)-based drug repurposing identified the Src/c-Abl inhibitor bosutinib, which is approved for the treatment of chronic myelogenous leukemia (CML), as a candidate for the molecular targeted therapy of ALS. Methods:\\nAn open-label, multicentre, dose-escalation phase 1 study using a 3\\xa0+\\xa03 design was conducted in 4 hospitals in Japan to evaluate the safety and tolerability of bosutinib in patients with ALS. Furthermore, the exploratory efficacy was evaluated using Revised ALS Functional Rating Scale (ALSFRS-R), predictive biomarkers including plasma neurofilament light chain (NFL) were explored, and single-cell RNA sequencing of iPSC-derived motor neurons was conducted. Patients, whose total ALSFRS-R scores decreased by 1-3 points during the 12-week, received escalating doses starting from 100\\xa0mg quaque die (QD) up to 400\\xa0mg QD based on dose-limiting toxicity (DLT) occurrence, and all participants who received one dose of the study drug were included in the primary analysis. This trial is registered with ClinicalTrials.gov, NCT04744532, as Induced pluripotent stem cell-based Drug Repurposing for Amyotrophic Lateral Sclerosis Medicine (iDReAM) study. Findings:\\nBetween March 29, 2019 and May 7, 2021, 20 patients were enrolled, 13 of whom received bosutinib treatment and 12 were included in the safety and efficacy analyses. No DLTs were observed up to 300\\xa0mg QD, but DLTs were observed in 3/3 patients of the 400\\xa0mg QD cohort. In all patients receiving 100\\xa0mg-400\\xa0mg, the prevalent adverse events (AEs) were gastrointestinal AEs in 12 patients (92.3%),'}]}"
      ]
     },
     "execution_count": 5,
     "metadata": {},
     "output_type": "execute_result"
    }
   ],
   "source": [
    "# use a single article as xml file\n",
    "formatted_json = pubmed.build_pubmed_json(\"data/pmid-xmls/36467452.xml\",)\n",
    "formatted_json"
   ]
  },
  {
   "cell_type": "code",
   "execution_count": null,
   "metadata": {},
   "outputs": [],
   "source": []
  }
 ],
 "metadata": {
  "kernelspec": {
   "display_name": "Python 3",
   "language": "python",
   "name": "python3"
  },
  "language_info": {
   "codemirror_mode": {
    "name": "ipython",
    "version": 3
   },
   "file_extension": ".py",
   "mimetype": "text/x-python",
   "name": "python",
   "nbconvert_exporter": "python",
   "pygments_lexer": "ipython3",
   "version": "3.11.4"
  },
  "orig_nbformat": 4
 },
 "nbformat": 4,
 "nbformat_minor": 2
}
