{
 "cells": [
  {
   "cell_type": "code",
   "execution_count": 1,
   "metadata": {},
   "outputs": [],
   "source": [
    "import json\n",
    "from pubmed_parser import PubmedParser"
   ]
  },
  {
   "cell_type": "code",
   "execution_count": 2,
   "metadata": {},
   "outputs": [],
   "source": [
    "pubmed = PubmedParser()"
   ]
  },
  {
   "cell_type": "markdown",
   "metadata": {},
   "source": [
    "# Process a large xml gz file that contains more than around 5000 articles"
   ]
  },
  {
   "cell_type": "code",
   "execution_count": 11,
   "metadata": {},
   "outputs": [],
   "source": [
    "# these large xml files are from https://ftp.ncbi.nlm.nih.gov/pubmed/baseline/\n",
    "\n",
    "import os\n",
    "dicts_out = pubmed.parse_pubmed_xml_iter(\"data/pubmed23n1181.xml.gz\")\n",
    "\n",
    "save_path = \"./data/pubmed\"\n",
    "if not os.path.exists(save_path):\n",
    "    os.makedirs(save_path)\n",
    "\n",
    "for article in dicts_out:\n",
    "    if article is None:\n",
    "        continue\n",
    "    pmid = article[\"pmid\"]\n",
    "    with open( f\"{save_path}/pubmed_{pmid}.json\", \"w\") as f:\n",
    "        json.dump(article, f)"
   ]
  },
  {
   "cell_type": "code",
   "execution_count": 12,
   "metadata": {},
   "outputs": [
    {
     "name": "stdout",
     "output_type": "stream",
     "text": [
      "Successfully removed ./data/pubmed\n"
     ]
    }
   ],
   "source": [
    "# remove save path\n",
    "\n",
    "import shutil\n",
    "\n",
    "# Check if it exists before attempting to remove\n",
    "if os.path.exists(save_path):\n",
    "\ttry:\n",
    "\t\t# Use rmtree to remove directory and all its contents\n",
    "\t\tshutil.rmtree(save_path)\n",
    "\t\tprint(f\"Successfully removed {save_path}\")\n",
    "\texcept Exception as e:\n",
    "\t\tprint(f\"Error removing directory: {e}\")\n",
    "else:\n",
    "\tprint(f\"Path {save_path} does not exist\")"
   ]
  },
  {
   "cell_type": "markdown",
   "metadata": {},
   "source": [
    "# Fetch the xml file from pubmed API"
   ]
  },
  {
   "cell_type": "code",
   "execution_count": 3,
   "metadata": {},
   "outputs": [
    {
     "name": "stdout",
     "output_type": "stream",
     "text": [
      "<?xml version=\"1.0\" ?>\n",
      "<!DOCTYPE PubmedArticleSet PUBLIC \"-//NLM//DTD PubMedArticle, 1st January 2025//EN\" \"https://dtd.nlm.nih.gov/ncbi/pubmed/out/pubmed_250101.dtd\">\n",
      "<PubmedArticleSet>\n",
      "<PubmedArticle><MedlineCitation Status=\"PubMed-not-MEDLINE\" Owner=\"NLM\"><PMID Version=\"1\">36464825</PMID><DateRevised><Year>2022</Year><Month>12</Month><Day>14</Day></DateRevised><Article PubModel=\"Print-Electronic\"><Journal><ISSN IssnType=\"Print\">2234-2400</ISSN><JournalIssue CitedMedium=\"Print\"><Volume>55</Volume><Issue>6</Issue><PubDate><Year>2022</Year><Month>Nov</Month></PubDate></JournalIssue><Title>Clinical endoscopy</Title><ISOAbbreviation>Clin Endosc</ISOAbbreviation></Journal><ArticleTitle>Underestimation of endoscopic size in large gastric epithelial neoplasms.</ArticleTitle><Pagination><StartPage>760</StartPage><EndPage>766</EndPage><MedlinePgn>760-766</MedlinePgn></Pagination><ELocationID EIdType=\"doi\" ValidYN=\"Y\">10.5946/ce.2021.269</ELocationID><Abstract><AbstractText Label=\"BACKGROUND/AIMS\" NlmCategory=\"OBJECTIVE\">Endoscopic submucosal dissection (ESD) is an effective method for resecting gastric adenomas and adenocarcinomas. A significant discrepancy was observed between endoscopic and pathological sizes in samples obtained from patients undergoing ESD. This study elucidates the factors affecting size discrepancy after formalin fixation.</AbstractText><AbstractText Label=\"METHODS\" NlmCategory=\"METHODS\">The records of 64 patients with 69 lesions were analyzed, including 50 adenomas and 19 adenocarcinomas. Data on location, gross shape, histology, and size after fixation in formalin were collected.</AbstractText><AbstractText Label=\"RESULTS\" NlmCategory=\"RESULTS\">The mean size of the resected specimen appeared to decrease after formalin fixation (37.5 mm prefixation vs. 35.8 mm postfixation, p&lt;0.05). The mean long axis diameter of the lesions was 20.3&#xb1;7.9 mm prefixation and 13.4&#xb1;7.9 mm postfixation. Size differences in lesions smaller than 20 mm were significantly greater than those in lesions larger than 20 mm (7.6&#xb1;5.6 mm vs. 2.5&#xb1;5.8 mm, p&lt;0.01). In multivariate analysis, a tumor size of &#x2265;20 mm was found to be an independent factor affecting size postformalin fixation (p&lt;0.05).</AbstractText><AbstractText Label=\"CONCLUSION\" NlmCategory=\"CONCLUSIONS\">The endoscopic size of lesions before ESD may be underestimated in tumors larger than 20 mm in size. Therefore, increased attention must be paid during ESD to avoid instances of incomplete resection.</AbstractText></Abstract><AuthorList CompleteYN=\"Y\"><Author ValidYN=\"Y\"><LastName>Song</LastName><ForeName>Jae Sun</ForeName><Initials>JS</Initials><AffiliationInfo><Affiliation>Division of Gastroenterology, Department of Internal Medicine, Presbyterian Medical Center, Jeonju, Korea.</Affiliation></AffiliationInfo></Author><Author ValidYN=\"Y\"><LastName>Kim</LastName><ForeName>Byung Sun</ForeName><Initials>BS</Initials><AffiliationInfo><Affiliation>Division of Gastroenterology, Department of Internal Medicine, Presbyterian Medical Center, Jeonju, Korea.</Affiliation></AffiliationInfo></Author><Author ValidYN=\"Y\"><LastName>Yang</LastName><ForeName>Min A</ForeName><Initials>MA</Initials><AffiliationInfo><Affiliation>Division of Gastroenterology, Department of Internal Medicine, Presbyterian Medical Center, Jeonju, Korea.</Affiliation></AffiliationInfo></Author><Author ValidYN=\"Y\"><LastName>Lee</LastName><ForeName>Young Jae</ForeName><Initials>YJ</Initials><AffiliationInfo><Affiliation>Division of Gastroenterology, Department of Internal Medicine, Presbyterian Medical Center, Jeonju, Korea.</Affiliation></AffiliationInfo></Author><Author ValidYN=\"Y\"><LastName>Jung</LastName><ForeName>Gum Mo</ForeName><Initials>GM</Initials><AffiliationInfo><Affiliation>Division of Gastroenterology, Department of Internal Medicine, Presbyterian Medical Center, Jeonju, Korea.</Affiliation></AffiliationInfo></Author><Author ValidYN=\"Y\"><LastName>Kim</LastName><ForeName>Ji Woong</ForeName><Initials>JW</Initials><AffiliationInfo><Affiliation>Division of Gastroenterology, Department of Internal Medicine, Presbyterian Medical Center, Jeonju, Korea.</Affiliation></AffiliationInfo></Author><Author ValidYN=\"Y\"><LastName>Cho</LastName><ForeName>Jin Woong</ForeName><Initials>JW</Initials><AffiliationInfo><Affiliation>Division of Gastroenterology, Department of Internal Medicine, Presbyterian Medical Center, Jeonju, Korea.</Affiliation></AffiliationInfo></Author></AuthorList><Language>eng</Language><PublicationTypeList><PublicationType UI=\"D016428\">Journal Article</PublicationType></PublicationTypeList><ArticleDate DateType=\"Electronic\"><Year>2022</Year><Month>05</Month><Day>19</Day></ArticleDate></Article><MedlineJournalInfo><Country>Korea (South)</Country><MedlineTA>Clin Endosc</MedlineTA><NlmUniqueID>101576886</NlmUniqueID><ISSNLinking>2234-2400</ISSNLinking></MedlineJournalInfo><CommentsCorrectionsList><CommentsCorrections RefType=\"CommentIn\"><RefSource>Clin Endosc. 2022 Nov;55(6):753-754. doi: 10.5946/ce.2022.266.</RefSource><PMID Version=\"1\">36464822</PMID></CommentsCorrections></CommentsCorrectionsList><KeywordList Owner=\"NOTNLM\"><Keyword MajorTopicYN=\"N\">Endoscopic submucosal dissection</Keyword><Keyword MajorTopicYN=\"N\">Endoscopy</Keyword><Keyword MajorTopicYN=\"N\">Stomach neoplasms</Keyword></KeywordList><CoiStatement>\n",
      "<b>Conflicts of Interest</b>\n",
      ". The authors have no potential conflicts of interest.</CoiStatement></MedlineCitation><PubmedData><History><PubMedPubDate PubStatus=\"received\"><Year>2021</Year><Month>11</Month><Day>3</Day></PubMedPubDate><PubMedPubDate PubStatus=\"accepted\"><Year>2022</Year><Month>2</Month><Day>9</Day></PubMedPubDate><PubMedPubDate PubStatus=\"entrez\"><Year>2022</Year><Month>12</Month><Day>5</Day><Hour>0</Hour><Minute>42</Minute></PubMedPubDate><PubMedPubDate PubStatus=\"pubmed\"><Year>2022</Year><Month>12</Month><Day>6</Day><Hour>6</Hour><Minute>0</Minute></PubMedPubDate><PubMedPubDate PubStatus=\"medline\"><Year>2022</Year><Month>12</Month><Day>6</Day><Hour>6</Hour><Minute>1</Minute></PubMedPubDate><PubMedPubDate PubStatus=\"pmc-release\"><Year>2022</Year><Month>11</Month><Day>1</Day></PubMedPubDate></History><PublicationStatus>ppublish</PublicationStatus><ArticleIdList><ArticleId IdType=\"pubmed\">36464825</ArticleId><ArticleId IdType=\"pmc\">PMC9726444</ArticleId><ArticleId IdType=\"doi\">10.5946/ce.2021.269</ArticleId><ArticleId IdType=\"pii\">ce.2021.269</ArticleId></ArticleIdList><ReferenceList><Reference><Citation>Chung IK, Lee JH, Lee SH, et al. Therapeutic outcomes in 1000 cases of endoscopic submucosal dissection for early gastric neoplasms: Korean ESD Study Group multicenter study. Gastrointest Endosc. 2009;69:1228&#x2013;1235.</Citation><ArticleIdList><ArticleId IdType=\"pubmed\">19249769</ArticleId></ArticleIdList></Reference><Reference><Citation>Min BH, Kim ER, Kim KM, et al. Surveillance strategy based on the incidence and patterns of recurrence after curative endoscopic submucosal dissection for early gastric cancer. Endoscopy. 2015;47:784&#x2013;793.</Citation><ArticleIdList><ArticleId IdType=\"pubmed\">26111362</ArticleId></ArticleIdList></Reference><Reference><Citation>Siu KF, Cheung HC, Wong J. Shrinkage of the esophagus after resection for carcinoma. Ann Surg. 1986;203:173&#x2013;176.</Citation><ArticleIdList><ArticleId IdType=\"pmc\">PMC1251066</ArticleId><ArticleId IdType=\"pubmed\">3947154</ArticleId></ArticleIdList></Reference><Reference><Citation>Goldstein NS, Soman A, Sacksner J. Disparate surgical margin lengths of colorectal resection specimens between in vivo and in vitro measurements: the effects of surgical resection and formalin fixation on organ shrinkage. Am J Clin Pathol. 1999;111:349&#x2013;351.</Citation><ArticleIdList><ArticleId IdType=\"pubmed\">10078110</ArticleId></ArticleIdList></Reference><Reference><Citation>Kim EH, Park JC, Song IJ, et al. Prediction model for non-curative resection of endoscopic submucosal dissection in patients with early gastric cancer. Gastrointest Endosc. 2017;85:976&#x2013;983.</Citation><ArticleIdList><ArticleId IdType=\"pubmed\">27756614</ArticleId></ArticleIdList></Reference><Reference><Citation>Gotoda T, Yanagisawa A, Sasako M, et al. Incidence of lymph node metastasis from early gastric cancer: estimation with a large number of cases at two large centers. Gastric Cancer. 2000;3:219&#x2013;225.</Citation><ArticleIdList><ArticleId IdType=\"pubmed\">11984739</ArticleId></ArticleIdList></Reference><Reference><Citation>Cho JW. The role of endosonography in the staging of gastrointestinal cancers. Clin Endosc. 2015;48:297&#x2013;301.</Citation><ArticleIdList><ArticleId IdType=\"pmc\">PMC4522420</ArticleId><ArticleId IdType=\"pubmed\">26240802</ArticleId></ArticleIdList></Reference><Reference><Citation>Shim CN, Song MK, Kang DR, et al. Size discrepancy between endoscopic size and pathologic size is not negligible in endoscopic resection for early gastric cancer. Surg Endosc. 2014;28:2199&#x2013;2207.</Citation><ArticleIdList><ArticleId IdType=\"pubmed\">24519032</ArticleId></ArticleIdList></Reference><Reference><Citation>Asada-Hirayama I, Kodashima S, Goto O, et al. Factors predictive of inaccurate determination of horizontal extent of intestinal-type early gastric cancers during endoscopic submucosal dissection: a retrospective analysis. Dig Endosc. 2013;25:593&#x2013;600.</Citation><ArticleIdList><ArticleId IdType=\"pubmed\">23489945</ArticleId></ArticleIdList></Reference><Reference><Citation>Sohn YJ, Jang JS, Choi SR, et al. Early detection of recurrence after endoscopic treatment for early gastric cancer. Scand J Gastroenterol. 2009;44:1109&#x2013;1114.</Citation><ArticleIdList><ArticleId IdType=\"pubmed\">19593687</ArticleId></ArticleIdList></Reference><Reference><Citation>Yamamoto Y, Fujisaki J, Hirasawa T, et al. Therapeutic outcomes of endoscopic submucosal dissection of undifferentiated-type intramucosal gastric cancer without ulceration and preoperatively diagnosed as 20 millimetres or less in diameter. Dig Endosc. 2010;22:112&#x2013;118.</Citation><ArticleIdList><ArticleId IdType=\"pubmed\">20447204</ArticleId></ArticleIdList></Reference><Reference><Citation>Schoen RE, Gerber LD, Margulies C. The pathologic measurement of polyp size is preferable to the endoscopic estimate. Gastrointest Endosc. 1997;46:492&#x2013;496.</Citation><ArticleIdList><ArticleId IdType=\"pubmed\">9434214</ArticleId></ArticleIdList></Reference><Reference><Citation>Fennerty MB, Davidson J, Emerson SS, et al. Are endoscopic measurements of colonic polyps reliable? Am J Gastroenterol. 1993;88:496&#x2013;500.</Citation><ArticleIdList><ArticleId IdType=\"pubmed\">8470627</ArticleId></ArticleIdList></Reference><Reference><Citation>Gopalswamy N, Shenoy VN, Choudhry U, et al. Is in vivo measurement of size of polyps during colonoscopy accurate? Gastrointest Endosc. 1997;46:497&#x2013;502.</Citation><ArticleIdList><ArticleId IdType=\"pubmed\">9434215</ArticleId></ArticleIdList></Reference><Reference><Citation>Yun GW, Kim JH, Lee YC, et al. What are the risk factors for residual tumor cells after endoscopic complete resection in gastric epithelial neoplasia? Surg Endosc. 2015;29:487&#x2013;492.</Citation><ArticleIdList><ArticleId IdType=\"pubmed\">25015521</ArticleId></ArticleIdList></Reference><Reference><Citation>Kim SB, Lee SH, Bae SI, et al. Association between Helicobacter pylori status and metachronous gastric cancer after endoscopic resection. World J Gastroenterol. 2016;22:9794&#x2013;9802.</Citation><ArticleIdList><ArticleId IdType=\"pmc\">PMC5124984</ArticleId><ArticleId IdType=\"pubmed\">27956803</ArticleId></ArticleIdList></Reference></ReferenceList></PubmedData></PubmedArticle></PubmedArticleSet>\n"
     ]
    }
   ],
   "source": [
    "pubmed_xml = pubmed.get_pubmed_article_xml(\"36464825\")\n",
    "print(pubmed_xml)"
   ]
  },
  {
   "cell_type": "markdown",
   "metadata": {},
   "source": [
    "# Process a single xml file"
   ]
  },
  {
   "cell_type": "code",
   "execution_count": 3,
   "metadata": {},
   "outputs": [],
   "source": [
    "# get citation count and journal ranking from APIs\n",
    "pubmed = PubmedParser(get_citation_count=True, get_journal_ranking=True)"
   ]
  },
  {
   "cell_type": "code",
   "execution_count": 5,
   "metadata": {},
   "outputs": [
    {
     "name": "stdout",
     "output_type": "stream",
     "text": [
      "Getting journal ranking for F1000Research\n"
     ]
    },
    {
     "data": {
      "text/plain": [
       "{'abstract': [{'text': \"Background: Research Software is a concept that has been only recently clarified. In this paper we address the need for a similar enlightenment concerning the Research Data concept. Methods: Our contribution begins by reviewing the Research Software definition, which includes the analysis of software as a legal concept, followed by the study of its production in the research environment and within the Open Science framework. Then we explore the challenges of a data definition and some of the Research Data definitions proposed in the literature. Results: We propose a Research Data concept featuring three characteristics: the data should be produced (collected, processed, analyzed, shared & disseminated) to answer a scientific question, by a scientific team, and has yield a result published or disseminated in some article or scientific contribution of any kind. Conclusions: The analysis of this definition and the context in which it is proposed provides some answers to the Borgman's conundrum challenges, that is, which Research Data might be shared, by whom, with whom, under what conditions, why, and to what effects. They are completed with answers to the questions: how? and where?\",\n",
       "   'section_title': 'Abstract',\n",
       "   'section_type': 'ABSTRACT'}],\n",
       " 'meta_info': {'articleids': [{'idtype': 'pubmed', 'value': '36415208'},\n",
       "   {'idtype': 'doi', 'value': '10.12688/f1000research.78195.2'},\n",
       "   {'idtype': 'pmc', 'value': 'PMC9650106'}],\n",
       "  'kwd': 'Open Science., Research Data, Research Software',\n",
       "  'dates_history': [{'date_type': 'accepted',\n",
       "    'year': '2022',\n",
       "    'month': '09',\n",
       "    'day': '21'},\n",
       "   {'date_type': 'entrez', 'year': '2022', 'month': '11', 'day': '24'},\n",
       "   {'date_type': 'pubmed', 'year': '2022', 'month': '11', 'day': '25'},\n",
       "   {'date_type': 'medline', 'year': '2022', 'month': '11', 'day': '26'}],\n",
       "  'fulljournalname': 'F1000Research',\n",
       "  'journal_abbrev': 'F1000Res',\n",
       "  'issn': '2046-1402',\n",
       "  'pubdate': '',\n",
       "  'title': 'Research Software vs. Research Data I: Towards a Research Data definition in the Open Science context.',\n",
       "  'languages': 'eng',\n",
       "  'volume': '11',\n",
       "  'issue': '',\n",
       "  'pages': '118',\n",
       "  'publication_type': [('D016428', 'Journal Article'),\n",
       "   ('D013485', \"Research Support, Non-U.S. Gov't\")],\n",
       "  'authors': [{'first': 'Teresa',\n",
       "    'middle': '',\n",
       "    'last': 'Gomez-Diaz',\n",
       "    'suffix': '',\n",
       "    'initials': 'T',\n",
       "    'affiliation': \"Laboraroire d'Informatique Gaspard-Monge, CNRS, Paris-Est, France.\",\n",
       "    'email': ''},\n",
       "   {'first': 'Tomas',\n",
       "    'middle': '',\n",
       "    'last': 'Recio',\n",
       "    'suffix': '',\n",
       "    'initials': 'T',\n",
       "    'affiliation': 'Universidad Antonio de Nebrija, Madrid, Spain.',\n",
       "    'email': ''}],\n",
       "  'mesh_terms': 'D012984:Software*',\n",
       "  'citation_count': 2,\n",
       "  'journal_ranking': {'#': '1',\n",
       "   'Journal': 'F1000Research',\n",
       "   'Articles': '14.5K',\n",
       "   'Citations': '141.0K',\n",
       "   'Impact Factor': '1.6'}},\n",
       " 'pmid': '36415208',\n",
       " 'article_splits': [{'PMID36415208_abstract_split_0': \"Background: Research Software is a concept that has been only recently clarified. In this paper we address the need for a similar enlightenment concerning the Research Data concept. Methods: Our contribution begins by reviewing the Research Software definition, which includes the analysis of software as a legal concept, followed by the study of its production in the research environment and within the Open Science framework. Then we explore the challenges of a data definition and some of the Research Data definitions proposed in the literature. Results: We propose a Research Data concept featuring three characteristics: the data should be produced (collected, processed, analyzed, shared & disseminated) to answer a scientific question, by a scientific team, and has yield a result published or disseminated in some article or scientific contribution of any kind. Conclusions: The analysis of this definition and the context in which it is proposed provides some answers to the Borgman's conundrum challenges, that is, which Research Data might be shared, by whom, with whom, under what conditions, why, and to what effects. They are completed with answers to the questions: how? and where?\"}]}"
      ]
     },
     "execution_count": 5,
     "metadata": {},
     "output_type": "execute_result"
    }
   ],
   "source": [
    "# use a single article as xml file\n",
    "formatted_json = pubmed.build_pubmed_json(\"example xml/temp_1.xml\",)\n",
    "formatted_json"
   ]
  },
  {
   "cell_type": "code",
   "execution_count": null,
   "metadata": {},
   "outputs": [],
   "source": []
  }
 ],
 "metadata": {
  "kernelspec": {
   "display_name": "Python 3",
   "language": "python",
   "name": "python3"
  },
  "language_info": {
   "codemirror_mode": {
    "name": "ipython",
    "version": 3
   },
   "file_extension": ".py",
   "mimetype": "text/x-python",
   "name": "python",
   "nbconvert_exporter": "python",
   "pygments_lexer": "ipython3",
   "version": "3.11.4"
  },
  "orig_nbformat": 4
 },
 "nbformat": 4,
 "nbformat_minor": 2
}
